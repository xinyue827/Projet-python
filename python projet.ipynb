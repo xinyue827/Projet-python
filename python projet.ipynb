{
 "cells": [
  {
   "cell_type": "markdown",
   "id": "f6104fcb",
   "metadata": {},
   "source": [
    "# Python projet"
   ]
  },
  {
   "cell_type": "code",
   "execution_count": 6,
   "id": "f0efac8a",
   "metadata": {},
   "outputs": [],
   "source": [
    "from bs4 import BeautifulSoup\n",
    "import requests\n",
    "import time\n",
    "import random\n",
    "import re"
   ]
  },
  {
   "cell_type": "code",
   "execution_count": 1,
   "id": "43d1c70a",
   "metadata": {},
   "outputs": [],
   "source": [
    "from selenium import webdriver\n",
    "from webdriver_manager.chrome import ChromeDriverManager\n",
    "from selenium.webdriver.common.by import By\n"
   ]
  },
  {
   "cell_type": "code",
   "execution_count": 2,
   "id": "bccbada6",
   "metadata": {},
   "outputs": [],
   "source": [
    "\n",
    "url  = 'https://fr.indeed.com/jobs?q=data+analyst'\n",
    "\n",
    "cService = webdriver.ChromeService(executable_path=r'C:\\Users\\10144\\.wdm\\drivers\\chromedriver\\win64\\121.0.6167.184\\chromedriver-win32/chromedriver.exe')\n",
    "driver = webdriver.Chrome(service = cService)\n",
    "driver.get(url)\n"
   ]
  },
  {
   "cell_type": "code",
   "execution_count": 8,
   "id": "32c74411",
   "metadata": {},
   "outputs": [
    {
     "data": {
      "text/plain": [
       "'//*[@id=\"mosaic-provider-jobcards\"]/ul/li[4]/div/div[1]/div/div/div'"
      ]
     },
     "execution_count": 8,
     "metadata": {},
     "output_type": "execute_result"
    }
   ],
   "source": [
    "from selenium import webdriver\n",
    "'//*[@id=\"mosaic-provider-jobcards\"]/ul/li[{}]/div/div[1]/div/div/div'.format(i)"
   ]
  },
  {
   "cell_type": "code",
   "execution_count": 3,
   "id": "fbadb07e",
   "metadata": {},
   "outputs": [
    {
     "name": "stdout",
     "output_type": "stream",
     "text": [
      "CDD DATA ANALYST H/F - NICE (06)\n",
      "nouveau\n",
      "Postulez avant tout le monde !\n",
      "Caisse d'Epargne Côte d'Azur\n",
      "3,5\n",
      "Nice (06)\n",
      "CDD\n",
      "Du lundi au vendredi\n",
      "Employeur réactif\n",
      "Aujourd'hui c'est la Direction Data, Etudes et Pilotage qui cherche son nouveau talent en tant que Data Analyst H/F.\n",
      "CDD de 9 mois basé sur Nice Arenas.\n",
      "Annonce·\n",
      "Posted\n",
      "Offre publiée il y a 4 jour\n"
     ]
    }
   ],
   "source": [
    "\n",
    "element_text = driver.find_element(By.XPATH, '//*[@id=\"mosaic-provider-jobcards\"]/ul/li[1]/div/div[1]/div/div/div').text\n",
    "print(element_text)"
   ]
  },
  {
   "cell_type": "code",
   "execution_count": 4,
   "id": "e49e5470",
   "metadata": {},
   "outputs": [],
   "source": [
    "driver.find_element(By.XPATH, '//*[@id=\"mosaic-provider-jobcards\"]/ul/li[1]/div/div[1]/div/div/div').click()\n",
    "time.sleep(3)"
   ]
  }
 ],
 "metadata": {
  "kernelspec": {
   "display_name": "Python 3 (ipykernel)",
   "language": "python",
   "name": "python3"
  },
  "language_info": {
   "codemirror_mode": {
    "name": "ipython",
    "version": 3
   },
   "file_extension": ".py",
   "mimetype": "text/x-python",
   "name": "python",
   "nbconvert_exporter": "python",
   "pygments_lexer": "ipython3",
   "version": "3.11.5"
  }
 },
 "nbformat": 4,
 "nbformat_minor": 5
}
